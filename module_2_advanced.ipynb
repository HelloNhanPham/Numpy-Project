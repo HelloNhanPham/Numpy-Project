{
 "cells": [
  {
   "cell_type": "code",
   "execution_count": 1,
   "id": "7da9e3d0",
   "metadata": {},
   "outputs": [],
   "source": [
    "import numpy as np"
   ]
  },
  {
   "cell_type": "code",
   "execution_count": 2,
   "id": "5ff5a7e5",
   "metadata": {},
   "outputs": [
    {
     "data": {
      "text/plain": [
       "array([[0, 1, 2],\n",
       "       [3, 4, 5]])"
      ]
     },
     "execution_count": 2,
     "metadata": {},
     "output_type": "execute_result"
    }
   ],
   "source": [
    "height = 2\n",
    "width = 3\n",
    "data = np.arange(6).reshape((2, 3))\n",
    "data"
   ]
  },
  {
   "cell_type": "code",
   "execution_count": 3,
   "id": "2fd0d002",
   "metadata": {},
   "outputs": [
    {
     "data": {
      "text/plain": [
       "array([[ 1,  0],\n",
       "       [ 0, -1]])"
      ]
     },
     "execution_count": 3,
     "metadata": {},
     "output_type": "execute_result"
    }
   ],
   "source": [
    "A = np.array([[1, 0],\n",
    "              [0, -1]])\n",
    "\n",
    "A"
   ]
  },
  {
   "cell_type": "code",
   "execution_count": 5,
   "id": "75f3251b",
   "metadata": {},
   "outputs": [
    {
     "name": "stdout",
     "output_type": "stream",
     "text": [
      "[0 0] --> [0 0]\n",
      "[1 0] --> [1 0]\n",
      "[2 0] --> [2 0]\n",
      "\n",
      "[0 1] --> [ 0 -1]\n",
      "[1 1] --> [ 1 -1]\n",
      "[2 1] --> [ 2 -1]\n",
      "\n"
     ]
    }
   ],
   "source": [
    "for x2 in range(height):\n",
    "    for x1 in range(width):\n",
    "        v = np.array([x1, x2])\n",
    "        new_vector = A.dot(v)\n",
    "        print(f'{v} --> {new_vector}')\n",
    "    print()"
   ]
  },
  {
   "cell_type": "code",
   "execution_count": 7,
   "id": "a983f9a3",
   "metadata": {},
   "outputs": [
    {
     "name": "stdout",
     "output_type": "stream",
     "text": [
      "[0 0] --> [0 1]\n",
      "[1 0] --> [1 1]\n",
      "[2 0] --> [2 1]\n",
      "\n",
      "[0 1] --> [0 0]\n",
      "[1 1] --> [1 0]\n",
      "[2 1] --> [2 0]\n",
      "\n"
     ]
    }
   ],
   "source": [
    "for x2 in range(height):\n",
    "    for x1 in range(width):\n",
    "        v = np.array([x1, x2])\n",
    "        new_vector = A.dot(v) + np.array([0, height-1])\n",
    "        print(f'{v} --> {new_vector}')\n",
    "    print()"
   ]
  },
  {
   "cell_type": "code",
   "execution_count": 9,
   "id": "1f9c3dae",
   "metadata": {},
   "outputs": [
    {
     "name": "stdout",
     "output_type": "stream",
     "text": [
      "[0 0] --> (1, 0)\n",
      "[1 0] --> (1, 1)\n",
      "[2 0] --> (1, 2)\n",
      "\n",
      "[0 1] --> (0, 0)\n",
      "[1 1] --> (0, 1)\n",
      "[2 1] --> (0, 2)\n",
      "\n"
     ]
    }
   ],
   "source": [
    "for x2 in range(height):\n",
    "    for x1 in range(width):\n",
    "        v = np.array([x1, x2])\n",
    "        new_x1, new_x2 = A.dot(v) + np.array([0, height-1])\n",
    "        print(f'{v} --> ({new_x2}, {new_x1})')\n",
    "    print()"
   ]
  },
  {
   "cell_type": "code",
   "execution_count": 11,
   "id": "6ffb8e01",
   "metadata": {},
   "outputs": [
    {
     "data": {
      "text/plain": [
       "array([[3, 4, 5],\n",
       "       [0, 1, 2]])"
      ]
     },
     "execution_count": 11,
     "metadata": {},
     "output_type": "execute_result"
    }
   ],
   "source": [
    "output = np.zeros(shape=(height, width), dtype=int)\n",
    "\n",
    "for x2 in range(height):\n",
    "    for x1 in range(width):\n",
    "        v = np.array([x1, x2])\n",
    "        new_x1, new_x2 = A.dot(v) + np.array([0, height-1])\n",
    "        output[new_x2, new_x1] = data[x2, x1]\n",
    "\n",
    "output"
   ]
  }
 ],
 "metadata": {
  "kernelspec": {
   "display_name": "Python (tensorflow_env)",
   "language": "python",
   "name": "tensorflow_env"
  },
  "language_info": {
   "codemirror_mode": {
    "name": "ipython",
    "version": 3
   },
   "file_extension": ".py",
   "mimetype": "text/x-python",
   "name": "python",
   "nbconvert_exporter": "python",
   "pygments_lexer": "ipython3",
   "version": "3.11.9"
  }
 },
 "nbformat": 4,
 "nbformat_minor": 5
}
